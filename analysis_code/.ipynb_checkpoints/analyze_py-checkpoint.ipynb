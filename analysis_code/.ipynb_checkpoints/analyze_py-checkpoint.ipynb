{
 "cells": [
  {
   "cell_type": "markdown",
   "metadata": {
    "slideshow": {
     "slide_type": "slide"
    }
   },
   "source": [
    "## Code for analyzing the Today-Asahi dataset\n",
    "#### Data Management (Spring/Summer 2018) at OSIPP, Osaka U\n",
    "\n",
    "### Python version"
   ]
  },
  {
   "cell_type": "markdown",
   "metadata": {
    "slideshow": {
     "slide_type": "slide"
    }
   },
   "source": [
    "### Preamble"
   ]
  },
  {
   "cell_type": "code",
   "execution_count": 1,
   "metadata": {
    "slideshow": {
     "slide_type": "-"
    }
   },
   "outputs": [
    {
     "name": "stderr",
     "output_type": "stream",
     "text": [
      "/Users/Chika/anaconda/lib/python3.6/site-packages/ipykernel_launcher.py:3: FutureWarning: The pandas.core.datetools module is deprecated and will be removed in a future version. Please use the pandas.tseries module instead.\n",
      "  This is separate from the ipykernel package so we can avoid doing imports until\n"
     ]
    }
   ],
   "source": [
    "import os\n",
    "import numpy as np\n",
    "from pandas.core import datetools\n",
    "import pandas as pd\n",
    "from scipy import stats\n",
    "import statsmodels.api as sm\n",
    "import statsmodels.formula.api as smf\n",
    "from statsmodels.iolib.summary2 import summary_col\n",
    "from linearmodels.panel import PanelOLS\n",
    "import matplotlib.pyplot as plt\n",
    "import seaborn as sns"
   ]
  },
  {
   "cell_type": "code",
   "execution_count": 2,
   "metadata": {
    "slideshow": {
     "slide_type": "subslide"
    }
   },
   "outputs": [],
   "source": [
    "os.chdir(\"..\") # set the parent directory as a working directory"
   ]
  },
  {
   "cell_type": "code",
   "execution_count": 3,
   "metadata": {
    "slideshow": {
     "slide_type": "subslide"
    }
   },
   "outputs": [],
   "source": [
    "pd.options.display.max_rows = 100\n",
    "pd.options.display.max_columns = 200"
   ]
  },
  {
   "cell_type": "markdown",
   "metadata": {
    "slideshow": {
     "slide_type": "slide"
    }
   },
   "source": [
    "### Import data"
   ]
  },
  {
   "cell_type": "code",
   "execution_count": 5,
   "metadata": {
    "slideshow": {
     "slide_type": "-"
    }
   },
   "outputs": [
    {
     "name": "stdout",
     "output_type": "stream",
     "text": [
      "4069\n",
      "3627\n"
     ]
    }
   ],
   "source": [
    "ta_panel = pd.read_table('build_input/data_todai-asahi/output/syuuin_2009_2014_py.csv',sep=',') \n",
    "print(len(ta_panel))\n",
    "#ta_panel = ta_panel.set_index(['uid','ELECYEAR']) # set index\n",
    "ta_panel['const'] = 1 # add constant (which will be used for regressions)\n",
    "ta_panel = ta_panel[ta_panel['PREFEC'] != 66] # remove PR\n",
    "print(len(ta_panel))"
   ]
  },
  {
   "cell_type": "markdown",
   "metadata": {
    "slideshow": {
     "slide_type": "slide"
    }
   },
   "source": [
    "### Check contents"
   ]
  },
  {
   "cell_type": "code",
   "execution_count": 6,
   "metadata": {
    "slideshow": {
     "slide_type": "subslide"
    }
   },
   "outputs": [
    {
     "name": "stdout",
     "output_type": "stream",
     "text": [
      "        uid  ELECYEAR ID   NAME  RESPONSE  PREFEC  DISTRICT  PRBLOCK  INCUMB  \\\n",
      "0  2393.1.0      2009  1  長谷川＝岳         1     1.0       1.0     51.0       1   \n",
      "1  1466.1.0      2009  2  横路＝孝弘         1     1.0       1.0     51.0       3   \n",
      "2  1282.1.0      2009  3  松井＝秀明         1     1.0       1.0      NaN       1   \n",
      "3  2463.1.0      2009  4  高元＝和枝         1     1.0       1.0      NaN       1   \n",
      "4   479.1.0      2009  5  吉川＝貴盛         1     1.0       2.0     51.0       3   \n",
      "\n",
      "   TERM  PARTY  SEX   AGE  RESULT  prim1  prim2  prim3  camp1  camp2  camp3  \\\n",
      "0     0      1    1  37.0       4    NaN    NaN    NaN    5.0    3.0    2.0   \n",
      "1     9      2    1  67.0       1    NaN    NaN    NaN    3.0    4.0    5.0   \n",
      "2     0      4    1  40.0       4    NaN    NaN    NaN    1.0    2.0    5.0   \n",
      "3     0     11    2  59.0       4    NaN    NaN    NaN    1.0    3.0    4.0   \n",
      "4     3      1    1  58.0       4    NaN    NaN    NaN    5.0    3.0    1.0   \n",
      "\n",
      "   coal_lib  coal_dem  coal_kmei  coal_com  coal_soc  coal_koku  yn_medconst  \\\n",
      "0       4.0       3.0        1.0       3.0       3.0        3.0          3.0   \n",
      "1       NaN       4.0        NaN       NaN       1.0        1.0          4.0   \n",
      "2       3.0       3.0        3.0       4.0       3.0        3.0          NaN   \n",
      "3       2.0       3.0        3.0       3.0       3.0        3.0          1.0   \n",
      "4       4.0       3.0        2.0       3.0       3.0        2.0          3.0   \n",
      "\n",
      "   yn_reps  yn_const  yn_defense  yn_preemp  yn_unsc  yn_nkorea  yn_smgov  \\\n",
      "0      3.0       2.0         2.0        5.0      1.0        3.0       4.0   \n",
      "1      5.0       5.0         5.0        5.0      2.0        3.0       5.0   \n",
      "2      5.0       5.0         5.0        5.0      2.0        5.0       5.0   \n",
      "3      1.0       1.0         1.0        1.0      1.0        1.0       2.0   \n",
      "4      3.0       2.0         2.0        3.0      1.0        2.0       3.0   \n",
      "\n",
      "   yn_pubspend  yn_fiscalpol  yn_tax5yrs  yn_frgnvote  yn_frgnwork  \\\n",
      "0          2.0           3.0         2.0          2.0          2.0   \n",
      "1          4.0           2.0         2.0          1.0          4.0   \n",
      "2          1.0           3.0         5.0          1.0          2.0   \n",
      "3          3.0           1.0         5.0          5.0          1.0   \n",
      "4          2.0           2.0         3.0          3.0          3.0   \n",
      "\n",
      "   yn_privacy  yn_tax10pc  yn_moral  ab_asiaus  ab_compet  ab_env  \\\n",
      "0         3.0         NaN       NaN        NaN        NaN     1.0   \n",
      "1         5.0         NaN       NaN        NaN        NaN     1.0   \n",
      "2         5.0         NaN       NaN        NaN        NaN     3.0   \n",
      "3         3.0         NaN       NaN        NaN        NaN     4.0   \n",
      "4         3.0         NaN       NaN        NaN        NaN     3.0   \n",
      "\n",
      "   ab_singlemum  ab_trade  fav_masuzoe  fav_ozawa  fav_watanabe  \\\n",
      "0           2.0       4.0         50.0        0.0          50.0   \n",
      "1           4.0       3.0         50.0       80.0          50.0   \n",
      "2           3.0       1.0          0.0       25.0           0.0   \n",
      "3           1.0       5.0          0.0        0.0          50.0   \n",
      "4           2.0       2.0         80.0        0.0          50.0   \n",
      "\n",
      "   fav_hashimoto  media_hp  media_sns  media_tv  const  \n",
      "0           50.0       NaN        NaN       NaN      1  \n",
      "1           20.0       NaN        NaN       NaN      1  \n",
      "2            0.0       NaN        NaN       NaN      1  \n",
      "3           50.0       NaN        NaN       NaN      1  \n",
      "4           60.0       NaN        NaN       NaN      1  \n"
     ]
    }
   ],
   "source": [
    "print(ta_panel.head(5)) # top 5 rows"
   ]
  },
  {
   "cell_type": "code",
   "execution_count": 7,
   "metadata": {
    "slideshow": {
     "slide_type": "subslide"
    }
   },
   "outputs": [
    {
     "name": "stdout",
     "output_type": "stream",
     "text": [
      "          ELECYEAR     RESPONSE       PREFEC     DISTRICT      PRBLOCK  \\\n",
      "count  3627.000000  3627.000000  3392.000000  3392.000000  3141.000000   \n",
      "mean   2011.392335     0.965261    20.882075     5.777123    58.623687   \n",
      "std       2.024581     0.183144    12.248494     5.137149     5.031594   \n",
      "min    2009.000000     0.000000     1.000000     1.000000    51.000000   \n",
      "25%    2009.000000     1.000000    12.000000     2.000000    54.000000   \n",
      "50%    2012.000000     1.000000    20.000000     4.000000    58.000000   \n",
      "75%    2014.000000     1.000000    28.000000     8.000000    66.000000   \n",
      "max    2014.000000     1.000000    47.000000    25.000000    66.000000   \n",
      "\n",
      "            INCUMB         TERM       PARTY          SEX          AGE  \\\n",
      "count  3627.000000  3627.000000  3627.00000  3627.000000  3625.000000   \n",
      "mean      1.777778     1.424593     4.45630     1.155225    50.750897   \n",
      "std       0.934550     2.380174     3.61288     0.362169    11.268816   \n",
      "min       1.000000     0.000000     1.00000     1.000000    25.000000   \n",
      "25%       1.000000     0.000000     2.00000     1.000000    42.000000   \n",
      "50%       1.000000     0.000000     3.00000     1.000000    51.000000   \n",
      "75%       3.000000     2.000000     6.00000     1.000000    60.000000   \n",
      "max       3.000000    16.000000    14.00000     2.000000    94.000000   \n",
      "\n",
      "            RESULT        prim1        prim2        prim3        camp1  \\\n",
      "count  3627.000000  2253.000000  2253.000000  2253.000000  3519.000000   \n",
      "mean      1.494348    11.596538    11.290280    11.854416     5.895425   \n",
      "std       1.600523    17.072672    18.116582    18.510381    18.153016   \n",
      "min       0.000000     1.000000     1.000000     1.000000     1.000000   \n",
      "25%       0.000000     3.000000     4.000000     5.000000     1.000000   \n",
      "50%       1.000000     7.000000     7.000000     7.000000     2.000000   \n",
      "75%       3.000000    15.000000    13.000000    14.000000     4.000000   \n",
      "max       4.000000    99.000000    99.000000    99.000000    99.000000   \n",
      "\n",
      "             camp2        camp3     coal_lib     coal_dem    coal_kmei  \\\n",
      "count  3475.000000  3428.000000  2506.000000  2464.000000  2472.000000   \n",
      "mean      8.406619    11.452159    12.481245    12.643263    12.581311   \n",
      "std      22.250785    26.954983    28.752739    28.838268    29.772615   \n",
      "min       1.000000     1.000000     1.000000     1.000000     1.000000   \n",
      "25%       2.000000     2.000000     2.000000     3.000000     2.000000   \n",
      "50%       3.000000     3.000000     3.000000     3.000000     3.000000   \n",
      "75%       4.000000     5.000000     4.000000     4.000000     3.000000   \n",
      "max      99.000000    99.000000    99.000000    99.000000    99.000000   \n",
      "\n",
      "          coal_com     coal_soc    coal_koku  yn_medconst      yn_reps  \\\n",
      "count  2441.000000  2450.000000  2451.000000  2583.000000  2581.000000   \n",
      "mean     11.830397    15.640408    14.371685     4.282617     4.415343   \n",
      "std      27.512946    32.900919    31.858760    12.690831    12.959788   \n",
      "min       1.000000     1.000000     1.000000     1.000000     1.000000   \n",
      "25%       3.000000     2.000000     2.000000     1.000000     1.000000   \n",
      "50%       3.000000     3.000000     3.000000     2.000000     3.000000   \n",
      "75%       4.000000     3.000000     3.000000     4.000000     4.000000   \n",
      "max      99.000000    99.000000    99.000000    99.000000    99.000000   \n",
      "\n",
      "          yn_const   yn_defense    yn_preemp      yn_unsc    yn_nkorea  \\\n",
      "count  2589.000000  3544.000000  3536.000000  2583.000000  3544.000000   \n",
      "mean      4.003090     4.390237     5.485011     3.516454     4.586907   \n",
      "std      12.166382    12.519827    14.210831    12.763065    12.868834   \n",
      "min       1.000000     1.000000     1.000000     1.000000     1.000000   \n",
      "25%       1.000000     1.000000     2.000000     1.000000     2.000000   \n",
      "50%       2.000000     2.000000     3.000000     2.000000     3.000000   \n",
      "75%       5.000000     5.000000     5.000000     2.000000     4.000000   \n",
      "max      99.000000    99.000000    99.000000    99.000000    99.000000   \n",
      "\n",
      "          yn_smgov  yn_pubspend  yn_fiscalpol   yn_tax5yrs  yn_frgnvote  \\\n",
      "count  3535.000000  3543.000000   3532.000000  2583.000000  3548.000000   \n",
      "mean      5.747100     4.570138      4.684598     5.137437     4.713078   \n",
      "std      13.969648    13.925270     14.122884    12.309528    13.276270   \n",
      "min       1.000000     1.000000      1.000000     1.000000     1.000000   \n",
      "25%       3.000000     2.000000      2.000000     2.000000     1.000000   \n",
      "50%       4.000000     2.000000      3.000000     4.000000     3.000000   \n",
      "75%       5.000000     3.000000      3.000000     5.000000     5.000000   \n",
      "max      99.000000    99.000000     99.000000    99.000000    99.000000   \n",
      "\n",
      "       yn_frgnwork   yn_privacy   yn_tax10pc     yn_moral    ab_asiaus  \\\n",
      "count  3545.000000  3546.000000  2253.000000  2253.000000  2253.000000   \n",
      "mean      4.791537     5.590243     6.321349     5.922326     7.094984   \n",
      "std      13.702982    13.969598    16.531865    18.249473    19.435228   \n",
      "min       1.000000     1.000000     1.000000     1.000000     1.000000   \n",
      "25%       2.000000     3.000000     2.000000     1.000000     2.000000   \n",
      "50%       3.000000     3.000000     3.000000     2.000000     3.000000   \n",
      "75%       3.000000     5.000000     5.000000     3.000000     4.000000   \n",
      "max      99.000000    99.000000    99.000000    99.000000    99.000000   \n",
      "\n",
      "         ab_compet       ab_env  ab_singlemum     ab_trade  fav_masuzoe  \\\n",
      "count  2253.000000  3539.000000   3543.000000  3541.000000  2335.000000   \n",
      "mean      7.189081     5.273241      5.853796     5.231855   193.812420   \n",
      "std      18.767738    16.250467     16.085952    15.457018   354.125903   \n",
      "min       1.000000     1.000000      1.000000     1.000000     0.000000   \n",
      "25%       3.000000     2.000000      2.000000     2.000000    25.000000   \n",
      "50%       3.000000     2.000000      3.000000     3.000000    50.000000   \n",
      "75%       5.000000     3.000000      4.000000     4.000000    70.000000   \n",
      "max      99.000000    99.000000     99.000000    99.000000   999.000000   \n",
      "\n",
      "         fav_ozawa  fav_watanabe  fav_hashimoto     media_hp    media_sns  \\\n",
      "count  2349.000000   2338.000000    2336.000000  2253.000000  2253.000000   \n",
      "mean    181.550021    190.856287     186.491010     7.780293     7.931203   \n",
      "std     349.808836    348.006021     340.561922    21.613884    23.578111   \n",
      "min       0.000000      0.000000       0.000000     0.000000     0.000000   \n",
      "25%       0.000000     25.000000      25.000000     1.000000     0.000000   \n",
      "50%      30.000000     50.000000      50.000000     3.000000     2.000000   \n",
      "75%      90.000000     75.000000      80.000000     4.000000     3.000000   \n",
      "max     999.000000    999.000000     999.000000    99.000000    99.000000   \n",
      "\n",
      "          media_tv   const  \n",
      "count  2253.000000  3627.0  \n",
      "mean      6.625388     1.0  \n",
      "std      21.874377     0.0  \n",
      "min       0.000000     1.0  \n",
      "25%       0.000000     1.0  \n",
      "50%       1.000000     1.0  \n",
      "75%       3.000000     1.0  \n",
      "max      99.000000     1.0  \n"
     ]
    }
   ],
   "source": [
    "print(ta_panel.describe()) # summary"
   ]
  },
  {
   "cell_type": "code",
   "execution_count": 8,
   "metadata": {
    "slideshow": {
     "slide_type": "subslide"
    }
   },
   "outputs": [
    {
     "name": "stdout",
     "output_type": "stream",
     "text": [
      "uid              False\n",
      "ELECYEAR         False\n",
      "ID               False\n",
      "NAME             False\n",
      "RESPONSE         False\n",
      "PREFEC            True\n",
      "DISTRICT          True\n",
      "PRBLOCK           True\n",
      "INCUMB           False\n",
      "TERM             False\n",
      "PARTY            False\n",
      "SEX              False\n",
      "AGE               True\n",
      "RESULT           False\n",
      "prim1             True\n",
      "prim2             True\n",
      "prim3             True\n",
      "camp1             True\n",
      "camp2             True\n",
      "camp3             True\n",
      "coal_lib          True\n",
      "coal_dem          True\n",
      "coal_kmei         True\n",
      "coal_com          True\n",
      "coal_soc          True\n",
      "coal_koku         True\n",
      "yn_medconst       True\n",
      "yn_reps           True\n",
      "yn_const          True\n",
      "yn_defense        True\n",
      "yn_preemp         True\n",
      "yn_unsc           True\n",
      "yn_nkorea         True\n",
      "yn_smgov          True\n",
      "yn_pubspend       True\n",
      "yn_fiscalpol      True\n",
      "yn_tax5yrs        True\n",
      "yn_frgnvote       True\n",
      "yn_frgnwork       True\n",
      "yn_privacy        True\n",
      "yn_tax10pc        True\n",
      "yn_moral          True\n",
      "ab_asiaus         True\n",
      "ab_compet         True\n",
      "ab_env            True\n",
      "ab_singlemum      True\n",
      "ab_trade          True\n",
      "fav_masuzoe       True\n",
      "fav_ozawa         True\n",
      "fav_watanabe      True\n",
      "fav_hashimoto     True\n",
      "media_hp          True\n",
      "media_sns         True\n",
      "media_tv          True\n",
      "const            False\n",
      "dtype: bool\n"
     ]
    }
   ],
   "source": [
    "print(ta_panel.isna().any()) #  missing values\n",
    "#print(ta_panel[ta_panel['PREFEC'].isna() == True].describe())"
   ]
  },
  {
   "cell_type": "markdown",
   "metadata": {
    "slideshow": {
     "slide_type": "slide"
    }
   },
   "source": [
    "### Make a summary table"
   ]
  },
  {
   "cell_type": "code",
   "execution_count": 9,
   "metadata": {
    "slideshow": {
     "slide_type": "-"
    }
   },
   "outputs": [],
   "source": [
    "ta_panel.agg(['mean','std','min','max','count']).T.to_latex(\"analysis_output/sum_stat.tex\")\n",
    "#ta_panel.describe().loc[['mean','std','min','max','count']].T.to_latex(\"analysis_output/sum_stat.tex\")"
   ]
  },
  {
   "cell_type": "markdown",
   "metadata": {
    "slideshow": {
     "slide_type": "subslide"
    }
   },
   "source": [
    "#### - Group summary\n",
    "- Useful method: `groupby()`."
   ]
  },
  {
   "cell_type": "code",
   "execution_count": 10,
   "metadata": {
    "slideshow": {
     "slide_type": "-"
    }
   },
   "outputs": [
    {
     "name": "stdout",
     "output_type": "stream",
     "text": [
      "3455 3627\n",
      "      count      mean       std  min  25%  50%  75%  max\n",
      "SEX                                                     \n",
      "1    2918.0  2.556203  1.088835  1.0  2.0  2.0  3.0  5.0\n",
      "2     537.0  2.726257  1.055158  1.0  2.0  3.0  3.0  5.0\n",
      "Ttest_indResult(statistic=-3.3419001007840574, pvalue=0.0008409240040395541)\n"
     ]
    }
   ],
   "source": [
    "yn = ta_panel['yn_fiscalpol'].dropna() # remove missing values in yn_ficalpol\n",
    "yn = yn[yn != 99] # remove \"no answer\"\n",
    "print(len(yn), len(ta_panel))\n",
    "result = yn.groupby(ta_panel['SEX']).describe() # summarize yn_fiscalpol by sex\n",
    "print(result)\n",
    "\n",
    "m = yn[(ta_panel['SEX'] == 1)]\n",
    "f = yn[(ta_panel['SEX'] == 2)]\n",
    "print(stats.ttest_ind(m, f)) # statistical difference between yn_fiscalpol for males and females(t-stat, assuming Normality and homogeneity of variance)"
   ]
  },
  {
   "cell_type": "markdown",
   "metadata": {
    "slideshow": {
     "slide_type": "slide"
    }
   },
   "source": [
    "### Make figures"
   ]
  },
  {
   "cell_type": "code",
   "execution_count": 11,
   "metadata": {
    "slideshow": {
     "slide_type": "-"
    }
   },
   "outputs": [],
   "source": [
    "plt.style.use('seaborn') # set a plot style"
   ]
  },
  {
   "cell_type": "markdown",
   "metadata": {
    "slideshow": {
     "slide_type": "subslide"
    }
   },
   "source": [
    "#### - Histograms"
   ]
  },
  {
   "cell_type": "code",
   "execution_count": 12,
   "metadata": {
    "slideshow": {
     "slide_type": "-"
    }
   },
   "outputs": [
    {
     "data": {
      "image/png": "[encoded data removed]",
      "text/plain": [
       "<Figure size 576x396 with 1 Axes>"
      ]
     },
     "metadata": {},
     "output_type": "display_data"
    }
   ],
   "source": [
    "yn = ta_panel['yn_fiscalpol'].dropna()  \n",
    "yn = yn[yn != 99]\n",
    "\n",
    "plt.hist(yn, bins=5, align='mid', range=(0.5,5.5), alpha=0.3, color='k')\n",
    "plt.title('Title')\n",
    "plt.show()"
   ]
  },
  {
   "cell_type": "code",
   "execution_count": 13,
   "metadata": {
    "slideshow": {
     "slide_type": "subslide"
    }
   },
   "outputs": [
    {
     "data": {
      "image/png": "[encoded data removed]",
      "text/plain": [
       "<Figure size 576x396 with 2 Axes>"
      ]
     },
     "metadata": {},
     "output_type": "display_data"
    }
   ],
   "source": [
    "yn = ta_panel['yn_fiscalpol'].dropna() \n",
    "yn = yn[yn != 99]\n",
    "m = yn[(ta_panel['SEX'] == 1)]\n",
    "f = yn[(ta_panel['SEX'] == 2)]\n",
    "\n",
    "# make a plot with two histograms\n",
    "plt.subplot(1,2,1, title='Male',facecolor='white') # left figure\n",
    "plt.hist(m, bins=5, align='mid', range=(0.5,5.5), alpha=0.3, color='b')\n",
    "\n",
    "plt.subplot(1,2,2, title='Female',facecolor='white').set_ylim([0, 1050]) # right figure\n",
    "plt.hist(f, bins=5, align='mid', range=(0.5,5.5), alpha=0.3, color='r')\n",
    "\n",
    "plt.suptitle(\"Fiscal policy\")\n",
    "#plt.show()\n",
    "\n",
    "plt.savefig(\"analysis_output/yn_fiscalpol_py.png\") # save file"
   ]
  },
  {
   "cell_type": "code",
   "execution_count": 14,
   "metadata": {
    "slideshow": {
     "slide_type": "subslide"
    }
   },
   "outputs": [
    {
     "data": {
      "image/png": "[encoded data removed]",
      "text/plain": [
       "<Figure size 576x396 with 2 Axes>"
      ]
     },
     "metadata": {},
     "output_type": "display_data"
    }
   ],
   "source": [
    "# alternative code\n",
    "yn = ta_panel['yn_fiscalpol'].dropna() \n",
    "yn = yn[yn != 99]\n",
    "m = yn[(ta_panel['SEX'] == 1)]\n",
    "f = yn[(ta_panel['SEX'] == 2)]\n",
    "\n",
    "# make a plot with two histograms\n",
    "fig = plt.figure()\n",
    "left = fig.add_subplot(1,2,1, title='Male',facecolor='white') # left figure\n",
    "right = fig.add_subplot(1,2,2, title='Female', ylim=(0,1050),facecolor='white') # right figure\n",
    "\n",
    "left.hist(m, bins=5, align='mid', range=(0.5,5.5), alpha=0.3, color='b')\n",
    "right.hist(f, bins=5, align='mid', range=(0.5,5.5), alpha=0.3, color='r')\n",
    "\n",
    "plt.suptitle('Fiscal policy')\n",
    "plt.show()"
   ]
  },
  {
   "cell_type": "code",
   "execution_count": 15,
   "metadata": {
    "slideshow": {
     "slide_type": "subslide"
    }
   },
   "outputs": [
    {
     "data": {
      "text/plain": [
       "<seaborn.axisgrid.FacetGrid at 0x1105e4128>"
      ]
     },
     "execution_count": 15,
     "metadata": {},
     "output_type": "execute_result"
    },
    {
     "data": {
      "image/png": "[encoded data removed]",
      "text/plain": [
       "<Figure size 432x216 with 2 Axes>"
      ]
     },
     "metadata": {},
     "output_type": "display_data"
    }
   ],
   "source": [
    "# alternative code using seaborn's FacetGrid\n",
    "ta_panel2 = ta_panel[:]\n",
    "ta_panel2['yn_fiscalpol'] = ta_panel2['yn_fiscalpol'].dropna() \n",
    "ta_panel2 = ta_panel2[ta_panel2['yn_fiscalpol'] != 99]\n",
    "ta_panel2['SEX'] = ta_panel2['SEX'].map({1: \"Male\", 2: \"Female\"})\n",
    "\n",
    "g = sns.FacetGrid(ta_panel2, col='SEX', hue='SEX', hue_kws={'color': ['blue', 'red']})\n",
    "g.map(plt.hist, 'yn_fiscalpol', bins=5, align='mid', range=(0.5,5.5), alpha=0.3)\n",
    "g.fig.suptitle(\"Fiscal policy\")\n",
    "g.set_titles('{col_name}')"
   ]
  },
  {
   "cell_type": "code",
   "execution_count": 16,
   "metadata": {
    "slideshow": {
     "slide_type": "subslide"
    }
   },
   "outputs": [
    {
     "data": {
      "image/png": "[encoded data removed]",
      "text/plain": [
       "<Figure size 576x396 with 1 Axes>"
      ]
     },
     "metadata": {},
     "output_type": "display_data"
    }
   ],
   "source": [
    "# combine two figures in a single plot\n",
    "yn = ta_panel['yn_fiscalpol'].dropna() \n",
    "yn = yn[yn != 99]\n",
    "m = yn[(ta_panel['SEX'] == 1)]\n",
    "f = yn[(ta_panel['SEX'] == 2)]\n",
    "\n",
    "plt.hist(m, bins=5, align='mid', range=(0.5,5.5), alpha=0.3, color='b') \n",
    "plt.hist(f, bins=5, align='mid', range=(0.5,5.5), alpha=0.3, color='r')\n",
    "\n",
    "plt.title('')\n",
    "plt.show()"
   ]
  },
  {
   "cell_type": "markdown",
   "metadata": {
    "slideshow": {
     "slide_type": "subslide"
    }
   },
   "source": [
    "#### - Kernel density plots"
   ]
  },
  {
   "cell_type": "code",
   "execution_count": 17,
   "metadata": {
    "slideshow": {
     "slide_type": "-"
    }
   },
   "outputs": [
    {
     "name": "stderr",
     "output_type": "stream",
     "text": [
      "/Users/Chika/anaconda/lib/python3.6/site-packages/matplotlib/axes/_axes.py:6462: UserWarning: The 'normed' kwarg is deprecated, and has been replaced by the 'density' kwarg.\n",
      "  warnings.warn(\"The 'normed' kwarg is deprecated, and has been \"\n"
     ]
    },
    {
     "data": {
      "text/plain": [
       "<matplotlib.axes._subplots.AxesSubplot at 0x113d967b8>"
      ]
     },
     "execution_count": 17,
     "metadata": {},
     "output_type": "execute_result"
    },
    {
     "data": {
      "image/png": "[encoded data removed]",
      "text/plain": [
       "<Figure size 576x396 with 1 Axes>"
      ]
     },
     "metadata": {},
     "output_type": "display_data"
    }
   ],
   "source": [
    "np.random.seed(123456789) # give a seed\n",
    "rdm = pd.Series(np.random.normal(0,1,size=1000)) # get random values\n",
    "rdm.hist(bins=100, alpha=0.3, color='r', normed=True) # plot a histogram\n",
    "rdm.plot.kde(style='k--') # plot kernel density"
   ]
  },
  {
   "cell_type": "markdown",
   "metadata": {
    "slideshow": {
     "slide_type": "subslide"
    }
   },
   "source": [
    "#### - Scatter plots"
   ]
  },
  {
   "cell_type": "code",
   "execution_count": 18,
   "metadata": {
    "slideshow": {
     "slide_type": "-"
    }
   },
   "outputs": [
    {
     "data": {
      "image/png": "[encoded data removed]",
      "text/plain": [
       "<Figure size 576x396 with 1 Axes>"
      ]
     },
     "metadata": {},
     "output_type": "display_data"
    }
   ],
   "source": [
    "ta = ta_panel[(ta_panel['fav_ozawa'] != 999)] # remove \"no answer\"\n",
    "\n",
    "ta.plot.scatter(y='AGE', x='fav_ozawa')\n",
    "plt.show()"
   ]
  },
  {
   "cell_type": "markdown",
   "metadata": {
    "slideshow": {
     "slide_type": "subslide"
    }
   },
   "source": [
    "#### - Line plots"
   ]
  },
  {
   "cell_type": "code",
   "execution_count": 19,
   "metadata": {
    "slideshow": {
     "slide_type": "-"
    }
   },
   "outputs": [
    {
     "data": {
      "text/plain": [
       "<matplotlib.legend.Legend at 0x10d5db048>"
      ]
     },
     "execution_count": 19,
     "metadata": {},
     "output_type": "execute_result"
    },
    {
     "data": {
      "image/png": "[encoded data removed]",
      "text/plain": [
       "<Figure size 576x396 with 1 Axes>"
      ]
     },
     "metadata": {},
     "output_type": "display_data"
    }
   ],
   "source": [
    "np.random.seed(123456789) # give a seed\n",
    "fig = plt.figure()\n",
    "ax = fig.add_subplot(1,1,1)\n",
    "ax.plot(np.random.randn(1000).cumsum(), 'b', label='one') \n",
    "ax.plot(np.random.randn(1000).cumsum(), 'r', label='two')\n",
    "ax.plot(np.random.randn(1000).cumsum(), 'y', label='three')\n",
    "ax.legend(loc='best') # plot a legend"
   ]
  },
  {
   "cell_type": "markdown",
   "metadata": {
    "slideshow": {
     "slide_type": "slide"
    }
   },
   "source": [
    "### Make regression tables"
   ]
  },
  {
   "cell_type": "code",
   "execution_count": 20,
   "metadata": {
    "slideshow": {
     "slide_type": "subslide"
    }
   },
   "outputs": [
    {
     "name": "stdout",
     "output_type": "stream",
     "text": [
      "  Table X - OLS Regressions\n",
      "==============================\n",
      "               Model 1 Model 2\n",
      "------------------------------\n",
      "AGE            0.01*** 0.01***\n",
      "               (0.00)  (0.00) \n",
      "PREFEC                 -0.00  \n",
      "                       (0.00) \n",
      "const          2.47*** 2.48***\n",
      "               (0.13)  (0.14) \n",
      "R-squared      0.008   0.008  \n",
      "Number of obs. 2157    2157   \n",
      "==============================\n",
      "Standard errors in\n",
      "parentheses.\n",
      "* p<.1, ** p<.05, ***p<.01\n"
     ]
    }
   ],
   "source": [
    "# subset\n",
    "ta1 = ta_panel[ta_panel['ab_asiaus'] != 99]\n",
    "\n",
    "# define covariates\n",
    "X1 = ['const', 'AGE']\n",
    "X2 = ['const', 'AGE', 'PREFEC']\n",
    "\n",
    "# OLS regressions \n",
    "reg1 = sm.OLS(ta1['ab_asiaus'], ta1[X1], missing='drop').fit() \n",
    "reg2 = sm.OLS(ta1['ab_asiaus'], ta1[X2], missing='drop').fit()\n",
    "\n",
    "# summary of results\n",
    "results_table = summary_col(results=[reg1,reg2],\n",
    "                            float_format='%0.2f',\n",
    "                            stars = True,\n",
    "                            model_names=['Model 1',\n",
    "                                         'Model 2'],\n",
    "                            info_dict={'R-squared' : lambda x: \"{:.3f}\".format(x.rsquared),\n",
    "                                       'Number of obs.' : lambda x: \"{0:d}\".format(int(x.nobs))},\n",
    "                            regressor_order=['AGE',\n",
    "                                             'PREFEC',\n",
    "                                             'const'])\n",
    "\n",
    "results_table.add_title('Table X - OLS Regressions')\n",
    "\n",
    "print(results_table)"
   ]
  },
  {
   "cell_type": "markdown",
   "metadata": {
    "slideshow": {
     "slide_type": "subslide"
    }
   },
   "source": [
    "- You can use the formula interface for `statsmodels`.\n",
    "    - Use `smf` instead of `sm`."
   ]
  },
  {
   "cell_type": "code",
   "execution_count": 21,
   "metadata": {
    "slideshow": {
     "slide_type": "subslide"
    }
   },
   "outputs": [
    {
     "name": "stdout",
     "output_type": "stream",
     "text": [
      "  Table X - OLS Regressions\n",
      "==============================\n",
      "               Model 1 Model 2\n",
      "------------------------------\n",
      "AGE            0.01*** 0.01***\n",
      "               (0.00)  (0.00) \n",
      "PREFEC                 -0.00  \n",
      "                       (0.00) \n",
      "Intercept      2.47*** 2.48***\n",
      "               (0.13)  (0.14) \n",
      "R-squared      0.008   0.008  \n",
      "Number of obs. 2157    2157   \n",
      "==============================\n",
      "Standard errors in\n",
      "parentheses.\n",
      "* p<.1, ** p<.05, ***p<.01\n"
     ]
    }
   ],
   "source": [
    "# subset\n",
    "ta1 = ta_panel[ta_panel['ab_asiaus'] != 99]\n",
    "\n",
    "# OLS regressions\n",
    "reg1 = smf.ols('ab_asiaus ~ AGE', data=ta1, missing='drop').fit()\n",
    "reg2 = smf.ols('ab_asiaus ~ AGE + PREFEC', data=ta1, missing='drop').fit()\n",
    "\n",
    "# summary of results\n",
    "results_table = summary_col(results=[reg1,reg2],\n",
    "                            float_format='%0.2f',\n",
    "                            stars = True,\n",
    "                            model_names=['Model 1',\n",
    "                                         'Model 2'],\n",
    "                            info_dict={'R-squared' : lambda x: \"{:.3f}\".format(x.rsquared),\n",
    "                                       'Number of obs.' : lambda x: \"{0:d}\".format(int(x.nobs))},\n",
    "                            regressor_order=['AGE',\n",
    "                                             'PREFEC'])\n",
    "\n",
    "results_table.add_title('Table X - OLS Regressions')\n",
    "\n",
    "print(results_table)\n",
    "\n",
    "# save the output table\n",
    "file = open(\"analysis_output/ols_results.tex\", \"w\")\n",
    "file.write(results_table.as_latex())\n",
    "file.close()"
   ]
  },
  {
   "cell_type": "markdown",
   "metadata": {
    "slideshow": {
     "slide_type": "subslide"
    }
   },
   "source": [
    "#### - Include Dummies"
   ]
  },
  {
   "cell_type": "code",
   "execution_count": 28,
   "metadata": {
    "scrolled": false,
    "slideshow": {
     "slide_type": "subslide"
    }
   },
   "outputs": [
    {
     "ename": "TypeError",
     "evalue": "summary_col() got an unexpected keyword argument 'drop_omitted'",
     "output_type": "error",
     "traceback": [
      "\u001b[0;31m---------------------------------------------------------------------------\u001b[0m",
      "\u001b[0;31mTypeError\u001b[0m                                 Traceback (most recent call last)",
      "\u001b[0;32m<ipython-input-28-e133996b0ed8>\u001b[0m in \u001b[0;36m<module>\u001b[0;34m()\u001b[0m\n\u001b[1;32m     15\u001b[0m                                        'Number of obs.' : lambda x: \"{0:d}\".format(int(x.nobs))},\n\u001b[1;32m     16\u001b[0m                             \u001b[0mregressor_order\u001b[0m\u001b[0;34m=\u001b[0m\u001b[0;34m[\u001b[0m\u001b[0;34m'yn_nkorea'\u001b[0m\u001b[0;34m]\u001b[0m\u001b[0;34m,\u001b[0m\u001b[0;34m\u001b[0m\u001b[0m\n\u001b[0;32m---> 17\u001b[0;31m                             drop_omitted=True) # Try True\n\u001b[0m\u001b[1;32m     18\u001b[0m \u001b[0;34m\u001b[0m\u001b[0m\n\u001b[1;32m     19\u001b[0m \u001b[0mresults_table\u001b[0m\u001b[0;34m.\u001b[0m\u001b[0madd_title\u001b[0m\u001b[0;34m(\u001b[0m\u001b[0;34m'Table X - OLS Regressions'\u001b[0m\u001b[0;34m)\u001b[0m\u001b[0;34m\u001b[0m\u001b[0m\n",
      "\u001b[0;31mTypeError\u001b[0m: summary_col() got an unexpected keyword argument 'drop_omitted'"
     ]
    }
   ],
   "source": [
    "# take a subset\n",
    "ta1 = ta_panel[(ta_panel['yn_nkorea'] != 99) & (ta_panel['yn_preemp'] != 99)]\n",
    "\n",
    "# OLS regressions with fixed effects (individuals and election years)\n",
    "reg1 = smf.ols('yn_preemp ~ yn_nkorea', data=ta1, missing='drop').fit()\n",
    "reg2 = smf.ols('yn_preemp ~ yn_nkorea + C(uid) + C(ELECYEAR)', data=ta1, missing='drop').fit()\n",
    "\n",
    "# summary of results\n",
    "results_table = summary_col(results=[reg1,reg2],\n",
    "                            float_format='%0.3f',\n",
    "                            stars = True,\n",
    "                            model_names=['Model 1',\n",
    "                                         'Model 2'],\n",
    "                            info_dict={'R-squared' : lambda x: \"{:.3f}\".format(x.rsquared),\n",
    "                                       'Number of obs.' : lambda x: \"{0:d}\".format(int(x.nobs))},\n",
    "                            regressor_order=['yn_nkorea'],\n",
    "                            drop_omitted=True) # Try True\n",
    "\n",
    "results_table.add_title('Table X - OLS Regressions')\n",
    "\n",
    "print(results_table)"
   ]
  },
  {
   "cell_type": "markdown",
   "metadata": {
    "slideshow": {
     "slide_type": "subslide"
    }
   },
   "source": [
    "- Alternatively, use `PanelOLS` in `linearmodels` (not recommended)."
   ]
  },
  {
   "cell_type": "code",
   "execution_count": 23,
   "metadata": {
    "slideshow": {
     "slide_type": "subslide"
    }
   },
   "outputs": [
    {
     "name": "stderr",
     "output_type": "stream",
     "text": [
      "/Users/Chika/anaconda/lib/python3.6/site-packages/linearmodels/utility.py:496: MissingValueWarning: \n",
      "Inputs contain missing values. Dropping rows with missing observations.\n",
      "  warnings.warn(missing_value_warning_msg, MissingValueWarning)\n"
     ]
    },
    {
     "name": "stdout",
     "output_type": "stream",
     "text": [
      "                          PanelOLS Estimation Summary                           \n",
      "================================================================================\n",
      "Dep. Variable:              yn_preemp   R-squared:                        0.0245\n",
      "Estimator:                   PanelOLS   R-squared (Between):              0.2368\n",
      "No. Observations:                3453   R-squared (Within):               0.0250\n",
      "Date:                Thu, Jun 14 2018   R-squared (Overall):              0.2334\n",
      "Time:                        18:44:21   Log-likelihood                   -1733.5\n",
      "Cov. Estimator:            Unadjusted                                           \n",
      "                                        F-statistic:                      29.194\n",
      "Entities:                        2287   P-value                           0.0000\n",
      "Avg Obs:                       1.5098   Distribution:                  F(1,1163)\n",
      "Min Obs:                       1.0000                                           \n",
      "Max Obs:                       3.0000   F-statistic (robust):             29.194\n",
      "                                        P-value                           0.0000\n",
      "Time periods:                       3   Distribution:                  F(1,1163)\n",
      "Avg Obs:                       1151.0                                           \n",
      "Min Obs:                       930.00                                           \n",
      "Max Obs:                       1281.0                                           \n",
      "                                                                                \n",
      "                             Parameter Estimates                              \n",
      "==============================================================================\n",
      "            Parameter  Std. Err.     T-stat    P-value    Lower CI    Upper CI\n",
      "------------------------------------------------------------------------------\n",
      "yn_nkorea      0.1540     0.0285     5.4031     0.0000      0.0981      0.2099\n",
      "==============================================================================\n",
      "\n",
      "F-test for Poolability: 3.0053\n",
      "P-value: 0.0000\n",
      "Distribution: F(2288,1163)\n",
      "\n",
      "Included effects: Entity, Time\n"
     ]
    }
   ],
   "source": [
    "ta1 = ta_panel[(ta_panel['yn_nkorea'] != 99) & (ta_panel['yn_preemp'] != 99)]\n",
    "\n",
    "ta1 = ta1.set_index(['uid','ELECYEAR']) # set index\n",
    "\n",
    "mod = PanelOLS.from_formula('yn_preemp ~ yn_nkorea + EntityEffects + TimeEffects', ta1)\n",
    "#dep = ta1.yn_preemp\n",
    "#exog = sm.add_constant(ta1[['yn_nkorea']])\n",
    "#mod = PanelOLS(dep, exog, entity_effects=True, time_effects=True)\n",
    "\n",
    "res = mod.fit(cov_type='unadjusted')\n",
    "#res = mod.fit(cov_type='clustered', cluster_entity=True) # cluster standard errors at the entity level (individual level)\n",
    "print(res)"
   ]
  },
  {
   "cell_type": "markdown",
   "metadata": {
    "slideshow": {
     "slide_type": "subslide"
    }
   },
   "source": [
    "- Cluster standard errors."
   ]
  },
  {
   "cell_type": "code",
   "execution_count": 25,
   "metadata": {
    "slideshow": {
     "slide_type": "subslide"
    }
   },
   "outputs": [
    {
     "ename": "TypeError",
     "evalue": "summary_col() got an unexpected keyword argument 'drop_omitted'",
     "output_type": "error",
     "traceback": [
      "\u001b[0;31m---------------------------------------------------------------------------\u001b[0m",
      "\u001b[0;31mTypeError\u001b[0m                                 Traceback (most recent call last)",
      "\u001b[0;32m<ipython-input-25-7e7aa87ef7a3>\u001b[0m in \u001b[0;36m<module>\u001b[0;34m()\u001b[0m\n\u001b[1;32m     16\u001b[0m                                        'Number of obs.' : lambda x: \"{0:d}\".format(int(x.nobs))},\n\u001b[1;32m     17\u001b[0m                             \u001b[0mregressor_order\u001b[0m\u001b[0;34m=\u001b[0m\u001b[0;34m[\u001b[0m\u001b[0;34m'yn_nkorea'\u001b[0m\u001b[0;34m]\u001b[0m\u001b[0;34m,\u001b[0m\u001b[0;34m\u001b[0m\u001b[0m\n\u001b[0;32m---> 18\u001b[0;31m                             drop_omitted=True) \n\u001b[0m\u001b[1;32m     19\u001b[0m \u001b[0;34m\u001b[0m\u001b[0m\n\u001b[1;32m     20\u001b[0m \u001b[0mresults_table\u001b[0m\u001b[0;34m.\u001b[0m\u001b[0madd_title\u001b[0m\u001b[0;34m(\u001b[0m\u001b[0;34m'Table X - OLS Regressions'\u001b[0m\u001b[0;34m)\u001b[0m\u001b[0;34m\u001b[0m\u001b[0m\n",
      "\u001b[0;31mTypeError\u001b[0m: summary_col() got an unexpected keyword argument 'drop_omitted'"
     ]
    }
   ],
   "source": [
    "# take a subset\n",
    "ta1 = ta_panel[(ta_panel['yn_nkorea'] != 99) & (ta_panel['yn_preemp'] != 99)]\n",
    "ta1 = ta1.dropna(subset=['yn_nkorea','yn_preemp']) # you have to drop NaN before computing clustered standard errors\n",
    "\n",
    "# OLS regressions with clustered standard errors (at the individual level)\n",
    "reg1 = smf.ols('yn_preemp ~ yn_nkorea', data=ta1).fit()\n",
    "reg2 = smf.ols('yn_preemp ~ yn_nkorea', data=ta1).fit(cov_type='cluster', cov_kwds={'groups':ta1['uid']}) # clustered at the individual level\n",
    "\n",
    "# summary of results\n",
    "results_table = summary_col(results=[reg1,reg2],\n",
    "                            float_format='%0.3f',\n",
    "                            stars = True,\n",
    "                            model_names=['Model 1',\n",
    "                                         'Model 2'],\n",
    "                            info_dict={'R-squared' : lambda x: \"{:.3f}\".format(x.rsquared),\n",
    "                                       'Number of obs.' : lambda x: \"{0:d}\".format(int(x.nobs))},\n",
    "                            regressor_order=['yn_nkorea'],\n",
    "                            drop_omitted=True) \n",
    "\n",
    "results_table.add_title('Table X - OLS Regressions')\n",
    "\n",
    "print(results_table)"
   ]
  },
  {
   "cell_type": "code",
   "execution_count": 29,
   "metadata": {},
   "outputs": [],
   "source": [
    "?summary_col"
   ]
  },
  {
   "cell_type": "code",
   "execution_count": null,
   "metadata": {},
   "outputs": [],
   "source": []
  }
 ],
 "metadata": {
  "celltoolbar": "Slideshow",
  "kernelspec": {
   "display_name": "Python 3",
   "language": "python",
   "name": "python3"
  },
  "language_info": {
   "codemirror_mode": {
    "name": "ipython",
    "version": 3
   },
   "file_extension": ".py",
   "mimetype": "text/x-python",
   "name": "python",
   "nbconvert_exporter": "python",
   "pygments_lexer": "ipython3",
   "version": "3.6.5"
  }
 },
 "nbformat": 4,
 "nbformat_minor": 2
}
