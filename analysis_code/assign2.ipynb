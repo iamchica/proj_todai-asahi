{
 "cells": [
  {
   "cell_type": "markdown",
   "metadata": {
    "slideshow": {
     "slide_type": "slide"
    }
   },
   "source": [
    "## Assignment 2\n",
    "#### Data Management (Spring/Summer 2018) at OSIPP, Osaka U\n",
    "\n",
    "### Python version"
   ]
  },
  {
   "cell_type": "markdown",
   "metadata": {
    "slideshow": {
     "slide_type": "slide"
    }
   },
   "source": [
    "### Preamble"
   ]
  },
  {
   "cell_type": "code",
   "execution_count": 2,
   "metadata": {
    "slideshow": {
     "slide_type": "-"
    }
   },
   "outputs": [],
   "source": [
    "import os\n",
    "#import numpy as np\n",
    "import pandas as pd\n",
    "#from scipy import stats\n",
    "#import statsmodels.api as sm\n",
    "import statsmodels.formula.api as smf\n",
    "from statsmodels.iolib.summary2 import summary_col\n",
    "from linearmodels.panel import PanelOLS\n",
    "import matplotlib\n",
    "import matplotlib.pyplot as plt\n",
    "#print(matplotlib.get_cachedir()) # 日本語出力のためにキャッシュを消す"
   ]
  },
  {
   "cell_type": "code",
   "execution_count": 2,
   "metadata": {
    "slideshow": {
     "slide_type": "subslide"
    }
   },
   "outputs": [],
   "source": [
    "os.chdir(\"..\") # set the working directory"
   ]
  },
  {
   "cell_type": "code",
   "execution_count": 4,
   "metadata": {
    "slideshow": {
     "slide_type": "subslide"
    }
   },
   "outputs": [],
   "source": [
    "pd.options.display.max_rows = 100\n",
    "pd.options.display.max_columns = 200"
   ]
  },
  {
   "cell_type": "markdown",
   "metadata": {
    "slideshow": {
     "slide_type": "slide"
    }
   },
   "source": [
    "### Import data"
   ]
  },
  {
   "cell_type": "code",
   "execution_count": 5,
   "metadata": {
    "slideshow": {
     "slide_type": "-"
    }
   },
   "outputs": [
    {
     "name": "stdout",
     "output_type": "stream",
     "text": [
      "               uid     ELECYEAR     RESPONSE       PREFEC     DISTRICT  \\\n",
      "count  5407.000000  5407.000000  5407.000000  5407.000000  5407.000000   \n",
      "mean   1680.143148  2008.734603     0.985389    21.029591     5.731274   \n",
      "std     973.404699     4.034630     0.157349    12.341164     5.083006   \n",
      "min       2.000000  2003.000000     0.000000     1.000000     1.000000   \n",
      "25%     837.500000  2005.000000     1.000000    12.000000     2.000000   \n",
      "50%    1687.000000  2009.000000     1.000000    20.000000     4.000000   \n",
      "75%    2530.500000  2012.000000     1.000000    28.000000     8.000000   \n",
      "max    3352.000000  2014.000000     2.000000    47.000000    25.000000   \n",
      "\n",
      "           PRBLOCK      INCUMB         TERM          SEX          AGE  \\\n",
      "count  4579.000000  5407.00000  3392.000000  4381.000000  4379.000000   \n",
      "mean     46.693164     1.79545     1.451356     1.146314    50.510847   \n",
      "std      22.216025     0.88851     2.390262     0.353461    11.171779   \n",
      "min       1.000000     1.00000     0.000000     1.000000    25.000000   \n",
      "25%      52.000000     1.00000     0.000000     1.000000    42.000000   \n",
      "50%      56.000000     1.00000     0.000000     1.000000    51.000000   \n",
      "75%      60.000000     3.00000     2.000000     1.000000    59.000000   \n",
      "max      66.000000     3.00000    16.000000     2.000000    94.000000   \n",
      "\n",
      "            RESULT        prim1        prim2        prim3        camp1  \\\n",
      "count  5407.000000  2253.000000  2253.000000  2253.000000  3343.000000   \n",
      "mean      3.063251    11.596538    11.290280    11.854416     6.090338   \n",
      "std       1.310927    17.072672    18.116582    18.510381    18.601885   \n",
      "min       1.000000     1.000000     1.000000     1.000000     1.000000   \n",
      "25%       1.000000     3.000000     4.000000     5.000000     1.000000   \n",
      "50%       4.000000     7.000000     7.000000     7.000000     2.000000   \n",
      "75%       4.000000    15.000000    13.000000    14.000000     4.000000   \n",
      "max       4.000000    99.000000    99.000000    99.000000    99.000000   \n",
      "\n",
      "             camp2        camp3     coal_lib     coal_dem    coal_kmei  \\\n",
      "count  3312.000000  3267.000000  2345.000000  2308.000000  2317.000000   \n",
      "mean      8.678442    11.872972    13.163326    13.301560    13.229176   \n",
      "std      22.755848    27.541142    29.600702    29.681419    30.642764   \n",
      "min       1.000000     1.000000     1.000000     1.000000     1.000000   \n",
      "25%       2.000000     2.000000     3.000000     3.000000     2.000000   \n",
      "50%       3.000000     3.000000     3.000000     3.000000     3.000000   \n",
      "75%       4.000000     5.000000     4.000000     4.000000     3.000000   \n",
      "max      99.000000    99.000000    99.000000    99.000000    99.000000   \n",
      "\n",
      "          coal_com     coal_soc    coal_koku  yn_medconst      yn_reps  \\\n",
      "count  2292.000000  2297.000000  2301.000000  2403.000000  2400.000000   \n",
      "mean     12.400087    16.504136    15.151239     4.445277     4.546250   \n",
      "std      28.299531    33.802654    32.729214    13.138466    13.425646   \n",
      "min       1.000000     1.000000     1.000000     1.000000     1.000000   \n",
      "25%       3.000000     2.000000     2.000000     1.000000     1.000000   \n",
      "50%       3.000000     3.000000     3.000000     2.000000     3.000000   \n",
      "75%       4.000000     3.000000     3.000000     4.000000     4.000000   \n",
      "max      99.000000    99.000000    99.000000    99.000000    99.000000   \n",
      "\n",
      "          yn_const   yn_defense    yn_preemp      yn_unsc    yn_nkorea  \\\n",
      "count  4345.000000  5292.000000  5282.000000  4335.000000  5298.000000   \n",
      "mean      3.819793     4.373772     5.255017     3.472895     4.544168   \n",
      "std      10.618466    11.456678    12.966999    11.675771    11.919925   \n",
      "min       1.000000     1.000000     1.000000     1.000000     1.000000   \n",
      "25%       1.000000     2.000000     2.000000     1.000000     2.000000   \n",
      "50%       2.000000     3.000000     3.000000     2.000000     3.000000   \n",
      "75%       5.000000     5.000000     5.000000     3.000000     4.000000   \n",
      "max      99.000000    99.000000    99.000000    99.000000    99.000000   \n",
      "\n",
      "          yn_smgov  yn_pubspend  yn_fiscalpol   yn_tax5yrs  yn_frgnvote  \\\n",
      "count  5274.000000  3362.000000   3352.000000  2400.000000  5304.000000   \n",
      "mean      5.623910     4.680547      4.809964     5.248333     4.171003   \n",
      "std      13.493277    14.285158     14.484600    12.757820    12.202561   \n",
      "min       1.000000     1.000000      1.000000     1.000000     1.000000   \n",
      "25%       3.000000     2.000000      2.000000     2.000000     1.000000   \n",
      "50%       4.000000     2.000000      3.000000     4.000000     2.000000   \n",
      "75%       5.000000     3.000000      3.000000     5.000000     4.000000   \n",
      "max      99.000000    99.000000     99.000000    99.000000    99.000000   \n",
      "\n",
      "       yn_frgnwork   yn_privacy   yn_tax10pc     yn_moral    ab_asiaus  \\\n",
      "count  3362.000000  5299.000000  2253.000000  2253.000000  2253.000000   \n",
      "mean      4.920286     5.214758     6.321349     5.922326     7.094984   \n",
      "std      14.057397    12.319483    16.531865    18.249473    19.435228   \n",
      "min       1.000000     1.000000     1.000000     1.000000     1.000000   \n",
      "25%       2.000000     3.000000     2.000000     1.000000     2.000000   \n",
      "50%       3.000000     4.000000     3.000000     2.000000     3.000000   \n",
      "75%       3.000000     5.000000     5.000000     3.000000     4.000000   \n",
      "max      99.000000    99.000000    99.000000    99.000000    99.000000   \n",
      "\n",
      "         ab_compet       ab_env  ab_singlemum     ab_trade  fav_masuzoe  \\\n",
      "count  2253.000000  3356.000000   3360.000000  3359.000000  2194.000000   \n",
      "mean      7.189081     5.425507      6.013393     5.358440   203.624886   \n",
      "std      18.767738    16.673014     16.500691    15.857713   363.087294   \n",
      "min       1.000000     1.000000      1.000000     1.000000     0.000000   \n",
      "25%       3.000000     2.000000      2.000000     2.000000    25.000000   \n",
      "50%       3.000000     2.000000      3.000000     3.000000    50.000000   \n",
      "75%       5.000000     3.000000      4.000000     4.000000    70.000000   \n",
      "max      99.000000    99.000000     99.000000    99.000000   999.000000   \n",
      "\n",
      "         fav_ozawa  fav_watanabe  fav_hashimoto     media_hp    media_sns  \\\n",
      "count  2200.000000   2191.000000    2190.000000  2253.000000  2253.000000   \n",
      "mean    191.495000    201.171611     195.745662     7.780293     7.931203   \n",
      "std     359.162865    357.075183     349.721499    21.613884    23.578111   \n",
      "min       0.000000      0.000000       0.000000     0.000000     0.000000   \n",
      "25%       0.000000     25.000000      25.000000     1.000000     0.000000   \n",
      "50%      35.000000     50.000000      50.000000     3.000000     2.000000   \n",
      "75%      90.000000     75.000000      80.000000     4.000000     3.000000   \n",
      "max     999.000000    999.000000     999.000000    99.000000    99.000000   \n",
      "\n",
      "          media_tv   const  \n",
      "count  2253.000000  5407.0  \n",
      "mean      6.625388     1.0  \n",
      "std      21.874377     0.0  \n",
      "min       0.000000     1.0  \n",
      "25%       0.000000     1.0  \n",
      "50%       1.000000     1.0  \n",
      "75%       3.000000     1.0  \n",
      "max      99.000000     1.0  \n"
     ]
    }
   ],
   "source": [
    "ta_panel = pd.read_table('input/syuuin_2003_2014_py.csv',dtype=None,sep=',',encoding=\"cp932\") \n",
    "ta_panel['const'] = 1 # add constant \n",
    "ta_panel = ta_panel[ta_panel['PREFEC'] < 50]\n",
    "ta_panel = ta_panel[ta_panel['RESPONSE'] != 9]\n",
    "ta_panel = ta_panel[ta_panel['ELECYEAR'] != 2002]\n",
    "print(ta_panel.describe())"
   ]
  },
  {
   "cell_type": "markdown",
   "metadata": {
    "slideshow": {
     "slide_type": "slide"
    }
   },
   "source": [
    "### Make a summary table"
   ]
  },
  {
   "cell_type": "code",
   "execution_count": 5,
   "metadata": {
    "slideshow": {
     "slide_type": "subslide"
    }
   },
   "outputs": [],
   "source": [
    "ta_panel[['ELECYEAR', 'PREFEC', 'DISTRICT', 'INCUMB', 'TERM', 'SEX', 'AGE', 'RESULT']].agg(['mean','std','min','max','count']).T.to_latex(\"output/sum_stat.tex\")\n"
   ]
  },
  {
   "cell_type": "markdown",
   "metadata": {
    "slideshow": {
     "slide_type": "slide"
    }
   },
   "source": [
    "### Check the number of candidates and politicians"
   ]
  },
  {
   "cell_type": "code",
   "execution_count": 6,
   "metadata": {
    "slideshow": {
     "slide_type": "subslide"
    }
   },
   "outputs": [
    {
     "name": "stdout",
     "output_type": "stream",
     "text": [
      "        count\n",
      "PARTY        \n",
      "自民党      1429\n",
      "共産党      1318\n",
      "民主党      1269\n",
      "諸派        328\n",
      "無所属       319\n",
      "日本維新の会    151\n",
      "社民党       134\n",
      "未来の党      111\n",
      "みんなの党      79\n",
      "維新の党       77\n",
      "公明党        45\n",
      "社会民主党      38\n",
      "次世代の党      38\n",
      "国民新党       21\n",
      "生活の党       13\n",
      "保守新党       11\n",
      "新党日本        9\n",
      "無所属の会       8\n",
      "新党大地        7\n",
      "改革クラブ       1\n",
      "自由連合        1\n"
     ]
    }
   ],
   "source": [
    "count_cand = ta_panel['PARTY'].groupby(ta_panel['PARTY']).count().reset_index(name='count').sort_values('count',ascending=False).set_index('PARTY')\n",
    "\n",
    "print(count_cand)"
   ]
  },
  {
   "cell_type": "code",
   "execution_count": 7,
   "metadata": {
    "slideshow": {
     "slide_type": "subslide"
    }
   },
   "outputs": [
    {
     "data": {
      "image/png": "[encoded data removed]",
      "text/plain": [
       "<Figure size 432x288 with 1 Axes>"
      ]
     },
     "metadata": {},
     "output_type": "display_data"
    }
   ],
   "source": [
    "#ta_panel['PARTY'].value_counts().plot(kind='bar')\n",
    "ta_panel['PARTY'].groupby(ta_panel['PARTY']).count().reset_index(name='count').sort_values('count',ascending=False).set_index('PARTY').plot.bar()\n",
    "\n",
    "plt.title('Political candidates')\n",
    "plt.savefig(\"output/numb_cand.png\", bbox_inches='tight')\n",
    "\n",
    "## LDP has the largest number of candidates"
   ]
  },
  {
   "cell_type": "code",
   "execution_count": 8,
   "metadata": {
    "slideshow": {
     "slide_type": "subslide"
    }
   },
   "outputs": [
    {
     "name": "stdout",
     "output_type": "stream",
     "text": [
      "        count\n",
      "PARTY        \n",
      "自民党      1133\n",
      "民主党       681\n",
      "無所属        48\n",
      "日本維新の会     46\n",
      "維新の党       40\n",
      "公明党        35\n",
      "みんなの党      21\n",
      "共産党        21\n",
      "社民党        16\n",
      "未来の党        9\n",
      "国民新党        7\n",
      "社会民主党       5\n",
      "保守新党        4\n",
      "次世代の党       2\n",
      "生活の党        2\n",
      "新党日本        2\n",
      "無所属の会       1\n",
      "新党大地        1\n",
      "自由連合        1\n"
     ]
    }
   ],
   "source": [
    "winner = ta_panel[ta_panel['RESULT'] != 4]\n",
    "count_winner = winner['PARTY'].groupby(winner['PARTY']).count().reset_index(name='count').sort_values('count',ascending=False).set_index('PARTY')\n",
    "\n",
    "print(count_winner)"
   ]
  },
  {
   "cell_type": "code",
   "execution_count": 9,
   "metadata": {
    "slideshow": {
     "slide_type": "subslide"
    }
   },
   "outputs": [
    {
     "data": {
      "image/png": "[encoded data removed]",
      "text/plain": [
       "<Figure size 432x288 with 1 Axes>"
      ]
     },
     "metadata": {},
     "output_type": "display_data"
    }
   ],
   "source": [
    "winner['PARTY'].groupby(winner['PARTY']).count().reset_index(name='count').sort_values('count',ascending=False).set_index('PARTY').plot.bar()\n",
    "\n",
    "plt.title('Politicians')\n",
    "plt.savefig(\"output/numb_pol.png\", bbox_inches='tight')"
   ]
  },
  {
   "cell_type": "code",
   "execution_count": 10,
   "metadata": {
    "slideshow": {
     "slide_type": "subslide"
    }
   },
   "outputs": [
    {
     "name": "stdout",
     "output_type": "stream",
     "text": [
      "SEX        1.0    2.0\n",
      "PARTY                \n",
      "みんなの党     73.0    6.0\n",
      "公明党       35.0    NaN\n",
      "共産党      772.0  246.0\n",
      "国民新党      20.0    1.0\n",
      "改革クラブ      1.0    NaN\n",
      "新党大地       5.0    2.0\n",
      "新党日本       9.0    NaN\n",
      "日本維新の会   139.0   12.0\n",
      "未来の党      85.0   26.0\n",
      "次世代の党     36.0    2.0\n",
      "民主党      881.0  121.0\n",
      "無所属      208.0   25.0\n",
      "生活の党      11.0    2.0\n",
      "社会民主党     28.0   10.0\n",
      "社民党       60.0   12.0\n",
      "維新の党      68.0    9.0\n",
      "自民党     1060.0   92.0\n",
      "諸派       249.0   75.0\n"
     ]
    }
   ],
   "source": [
    "count_fm = ta_panel['const'].groupby([ta_panel['PARTY'],ta_panel['SEX']]).count().unstack()\n",
    "\n",
    "print(count_fm)"
   ]
  },
  {
   "cell_type": "code",
   "execution_count": 11,
   "metadata": {
    "slideshow": {
     "slide_type": "subslide"
    }
   },
   "outputs": [
    {
     "data": {
      "image/png": "[encoded data removed]",
      "text/plain": [
       "<Figure size 432x288 with 1 Axes>"
      ]
     },
     "metadata": {},
     "output_type": "display_data"
    }
   ],
   "source": [
    "ta_panel['const'].groupby([ta_panel['PARTY'],ta_panel['SEX']]).count().unstack().reset_index().sort_values(1.0,ascending=False).set_index('PARTY').plot.bar()\n",
    "\n",
    "plt.title('Political candidates')\n",
    "plt.savefig(\"output/numb_cand_fm.png\", bbox_inches='tight')\n",
    "\n",
    "## JSP has the largest number of female candidates"
   ]
  },
  {
   "cell_type": "markdown",
   "metadata": {
    "slideshow": {
     "slide_type": "slide"
    }
   },
   "source": [
    "### Check the average level of not supporting fiscal policies for fiscal consolidation"
   ]
  },
  {
   "cell_type": "code",
   "execution_count": 12,
   "metadata": {
    "slideshow": {
     "slide_type": "subslide"
    }
   },
   "outputs": [
    {
     "data": {
      "image/png": "[encoded data removed]",
      "text/plain": [
       "<Figure size 432x288 with 1 Axes>"
      ]
     },
     "metadata": {},
     "output_type": "display_data"
    }
   ],
   "source": [
    "rest = ta_panel[ta_panel['yn_fiscalpol'] != 99]\n",
    "#print(rest['yn_fiscalpol'].groupby(ta_panel['TERM']).describe()) \n",
    "\n",
    "rest['yn_fiscalpol'].groupby(ta_panel['TERM']).mean().plot.bar()\n",
    "plt.title('Average non-support for fiscal policies')\n",
    "plt.savefig(\"output/fiscal_pol.png\", bbox_inches='tight')\n",
    "\n",
    "## We obeserve: Longer TERM means more support for fiscal policies\n",
    "## Endogeneity: 1. TERM may be correlated with another variable such as AGE (omitted variables bias)\n",
    "##              2. Those who supporting fiscal policies might be more likely to win (reverse causality)"
   ]
  },
  {
   "cell_type": "markdown",
   "metadata": {
    "slideshow": {
     "slide_type": "slide"
    }
   },
   "source": [
    "### Make regression tables"
   ]
  },
  {
   "cell_type": "code",
   "execution_count": 13,
   "metadata": {
    "scrolled": false,
    "slideshow": {
     "slide_type": "subslide"
    }
   },
   "outputs": [
    {
     "name": "stderr",
     "output_type": "stream",
     "text": [
      "C:\\Users\\shu\\Anaconda3\\lib\\site-packages\\statsmodels\\base\\model.py:1100: RuntimeWarning: invalid value encountered in true_divide\n",
      "  return self.params / self.bse\n",
      "C:\\Users\\shu\\Anaconda3\\lib\\site-packages\\scipy\\stats\\_distn_infrastructure.py:879: RuntimeWarning: invalid value encountered in greater\n",
      "  return (self.a < x) & (x < self.b)\n",
      "C:\\Users\\shu\\Anaconda3\\lib\\site-packages\\scipy\\stats\\_distn_infrastructure.py:879: RuntimeWarning: invalid value encountered in less\n",
      "  return (self.a < x) & (x < self.b)\n",
      "C:\\Users\\shu\\Anaconda3\\lib\\site-packages\\scipy\\stats\\_distn_infrastructure.py:1821: RuntimeWarning: invalid value encountered in less_equal\n",
      "  cond2 = cond0 & (x <= self.a)\n"
     ]
    },
    {
     "name": "stdout",
     "output_type": "stream",
     "text": [
      "             Table X - OLS Regressions\n",
      "====================================================\n",
      "                Model 1   Model 2  Model 3  Model 4 \n",
      "----------------------------------------------------\n",
      "TERM           -0.091*** -0.028**  -0.046  0.146**  \n",
      "               (0.008)   (0.012)   (0.053) (0.069)  \n",
      "INCUMB                   -0.219***         -0.197***\n",
      "                         (0.028)           (0.038)  \n",
      "AGE                      0.000             -0.047   \n",
      "                         (0.002)           (0.028)  \n",
      "SEX                      0.046                      \n",
      "                         (0.052)                    \n",
      "R-squared      0.037     0.056     0.807   0.811    \n",
      "Number of obs. 3275      3273      3275    3273     \n",
      "====================================================\n",
      "Standard errors in parentheses.\n",
      "* p<.1, ** p<.05, ***p<.01\n"
     ]
    }
   ],
   "source": [
    "rest = ta_panel[(ta_panel['yn_fiscalpol'] != 99)]\n",
    "\n",
    "# OLS regressions\n",
    "reg1 = smf.ols('yn_fiscalpol ~ TERM', data=rest).fit()\n",
    "reg2 = smf.ols('yn_fiscalpol ~ TERM + INCUMB + AGE + SEX', data=rest).fit()\n",
    "reg3 = smf.ols('yn_fiscalpol ~ TERM + C(uid) + C(ELECYEAR)', data=rest).fit()\n",
    "reg4 = smf.ols('yn_fiscalpol ~ TERM + INCUMB + AGE + C(uid) + C(ELECYEAR)', data=rest).fit()\n",
    "\n",
    "# summary of results\n",
    "results_table = summary_col(results=[reg1,reg2,reg3,reg4],\n",
    "                            float_format='%0.3f',\n",
    "                            stars = True,\n",
    "                            model_names=['Model 1',\n",
    "                                         'Model 2',\n",
    "                                         'Model 3',\n",
    "                                        'Model 4'],\n",
    "                            info_dict={'R-squared' : lambda x: \"{:.3f}\".format(x.rsquared),\n",
    "                                       'Number of obs.' : lambda x: \"{0:d}\".format(int(x.nobs))},\n",
    "                            regressor_order=['TERM','INCUMB','AGE','SEX'],\n",
    "                            drop_omitted=True) \n",
    "\n",
    "results_table.add_title('Table X - OLS Regressions')\n",
    "\n",
    "print(results_table)\n",
    "\n",
    "# save the output table\n",
    "file = open(\"output/ols_results.tex\", \"w\")\n",
    "file.write(results_table.as_latex())\n",
    "file.close()\n",
    "\n",
    "## SEX can't be included because it is most likely time-invariant (and thus is absorbed by individual fixed effects)\n",
    "## TERM becomes insignificant in Model 3, suggesting that the correlation is most likely driven by some time-invariant individual characteristics\n",
    "## INCUMB shows the negative sign even with FEs. Fresh candidates (oppositions) are less likely to support fiscal policies, and vice versa."
   ]
  },
  {
   "cell_type": "code",
   "execution_count": 3,
   "metadata": {},
   "outputs": [],
   "source": [
    "?summary_col"
   ]
  },
  {
   "cell_type": "code",
   "execution_count": null,
   "metadata": {},
   "outputs": [],
   "source": []
  }
 ],
 "metadata": {
  "celltoolbar": "Slideshow",
  "kernelspec": {
   "display_name": "Python 3",
   "language": "python",
   "name": "python3"
  },
  "language_info": {
   "codemirror_mode": {
    "name": "ipython",
    "version": 3
   },
   "file_extension": ".py",
   "mimetype": "text/x-python",
   "name": "python",
   "nbconvert_exporter": "python",
   "pygments_lexer": "ipython3",
   "version": "3.6.5"
  }
 },
 "nbformat": 4,
 "nbformat_minor": 2
}
